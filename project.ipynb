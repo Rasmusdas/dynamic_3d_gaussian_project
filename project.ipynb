{
 "cells": [
  {
   "cell_type": "markdown",
   "metadata": {},
   "source": [
    "# Dynamic Pose Integration into Static 3D Gaussian Environments using Sparse Camera Setup\n",
    "\n",
    "### By Filip Marek Uzdowski (s220257), Jacob Schrøder Ipsen (s204440) and Rasmus Munch Kielsgaard Nielsen (s204504)"
   ]
  },
  {
   "cell_type": "markdown",
   "metadata": {},
   "source": [
    "#### ATTENTION\n",
    "\n",
    "To run the visualizer or do any training an NVIDIA graphics card with CUDA installed is required due to the rasterizer being written in CUDA. You will likely be unable to even install the dependencies if these requirements are not fulfilled. Due to this we also provided a few videos."
   ]
  },
  {
   "cell_type": "markdown",
   "metadata": {},
   "source": [
    "#### Rendering the scenes the scenes\n",
    "\n",
    "To render and move around the scene we created a visualizer (due to the original one from the codebase was quite buggy and having insufficient features). Our pre-trained models can be downloaded from [Here]() and the original papers trained models can be gotten from here\n",
    "\n",
    "Controls are the following\n",
    "\n",
    "Mouse + Left Click - Rotate the camera\n",
    "\n",
    "W - Forward\n",
    "\n",
    "S - Backwards\n",
    "\n",
    "A - Left\n",
    "\n",
    "D - Right\n",
    "\n",
    "1 - Down\n",
    "\n",
    "2 - Up\n",
    "\n",
    "Z - Go back 1 timestep\n",
    "\n",
    "X - Go forward 1 timestep\n",
    "\n",
    "T - Toggle auto play \n",
    "\n",
    "To close you need to stop the execution in the notebook and even then the window might persist for some time or until the notebook is closed"
   ]
  },
  {
   "cell_type": "code",
   "execution_count": null,
   "metadata": {},
   "outputs": [],
   "source": [
    "import visualize\n",
    "\n",
    "RENDER_COMBINED = True\n",
    "# True renders both with and without background. False renders just without background\n",
    "visualize.RENDER_BOTH = False\n",
    "\n",
    "# Opens a OpenCV window with the scene.\n",
    "if RENDER_COMBINED:\n",
    "    # Combining scenes currently takes a while as we didn't create a great method for combining. Depending on the size of the models it can take a few minutes\n",
    "    dat = visualize.get_render_data_combined_scene(\"params_fg.npz\",\"max_params.npz\",[0,0,0])\n",
    "    \n",
    "    visualize.render_scene(dat)\n",
    "    \n",
    "else:\n",
    "    if visualize.RENDER_BOTH:\n",
    "        fg,bg = visualize.get_render_data_single_scene(\"params_bg.npz\")\n",
    "        visualize.render_scene(fg,bg)\n",
    "        \n",
    "    else:\n",
    "        data = visualize.get_render_data_single_scene(\"params.npz\")\n",
    "        visualize.render_scene(data)\n",
    "\n"
   ]
  },
  {
   "cell_type": "markdown",
   "metadata": {},
   "source": [
    "### Training\n",
    "\n",
    "This is the code for the dynamic training. The static training code has been omitted as it was more or less the same as the one found in the original paper linked here.\n",
    "\n",
    "If you would like to train, just put the data folder in the same folder as this notebook is in.\n",
    "\n",
    "The code below is just the train function lifted from the train.py script"
   ]
  },
  {
   "cell_type": "code",
   "execution_count": null,
   "metadata": {},
   "outputs": [],
   "source": [
    "import torch\n",
    "import os\n",
    "import json\n",
    "import copy\n",
    "import numpy as np\n",
    "from PIL import Image\n",
    "from random import randint\n",
    "from tqdm import tqdm\n",
    "from diff_gaussian_rasterization import GaussianRasterizer as Renderer\n",
    "from helpers import setup_camera, l1_loss_v1, l1_loss_v2, weighted_l2_loss_v1, weighted_l2_loss_v2, quat_mult, \\\n",
    "    o3d_knn, params2rendervar, params2cpu, save_params\n",
    "from external import calc_ssim, calc_psnr, build_rotation, densify, update_params_and_optimizer\n",
    "from train import initialize_params,initialize_optimizer,get_dataset,initialize_per_timestep,get_batch,get_loss,report_progress,initialize_post_first_timestep\n",
    "\n",
    "def train(seq, exp):\n",
    "    md = json.load(open(f\"./data/{seq}/train_meta.json\", 'r'))  # metadata\n",
    "    num_timesteps = len(md['fn'])\n",
    "    params, variables = initialize_params(seq, md)\n",
    "    optimizer = initialize_optimizer(params, variables)\n",
    "    output_params = []\n",
    "    for t in range(num_timesteps):\n",
    "        dataset = get_dataset(t, md, seq)\n",
    "        todo_dataset = []\n",
    "        is_initial_timestep = (t == 0)\n",
    "        if not is_initial_timestep:\n",
    "            params, variables = initialize_per_timestep(params, variables, optimizer)\n",
    "        num_iter_per_timestep = 5000 if is_initial_timestep else 2000\n",
    "        progress_bar = tqdm(range(num_iter_per_timestep), desc=f\"timestep {t}\")\n",
    "        for i in range(num_iter_per_timestep):\n",
    "            curr_data = get_batch(todo_dataset, dataset)\n",
    "            loss, variables = get_loss(params, curr_data, variables, is_initial_timestep)\n",
    "            loss.backward()\n",
    "            with torch.no_grad():\n",
    "                report_progress(params, dataset[0], i, progress_bar,opt_vars=loss)\n",
    "                if is_initial_timestep:\n",
    "                    pass\n",
    "                    params, variables = densify(params, variables, optimizer, i)\n",
    "                optimizer.step()\n",
    "                optimizer.zero_grad(set_to_none=True)\n",
    "        progress_bar.close()\n",
    "        output_params.append(params2cpu(params, is_initial_timestep))\n",
    "        if is_initial_timestep:\n",
    "            variables = initialize_post_first_timestep(params, variables, optimizer)\n",
    "        if (t%10 == 0 and t > 0):\n",
    "            save_params(output_params, seq + str(t), exp)\n",
    "\n",
    "train(\"new_jaco\", \"exp\")\n"
   ]
  }
 ],
 "metadata": {
  "kernelspec": {
   "display_name": "gaussian_splatting",
   "language": "python",
   "name": "python3"
  },
  "language_info": {
   "codemirror_mode": {
    "name": "ipython",
    "version": 3
   },
   "file_extension": ".py",
   "mimetype": "text/x-python",
   "name": "python",
   "nbconvert_exporter": "python",
   "pygments_lexer": "ipython3",
   "version": "3.7.12"
  },
  "orig_nbformat": 4
 },
 "nbformat": 4,
 "nbformat_minor": 2
}
